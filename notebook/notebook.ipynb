{
 "cells": [
  {
   "cell_type": "code",
   "id": "initial_id",
   "metadata": {
    "collapsed": true
   },
   "source": [
    "import pandas as pd\n",
    "import numpy as np\n",
    "from sqlalchemy import create_engine, text"
   ],
   "outputs": [],
   "execution_count": null
  },
  {
   "metadata": {},
   "cell_type": "code",
   "source": [
    "instruments = ['hc','rb','i','j','jm','au','ag','v','ru','l','pp','bu','TA','FG','MA',\n",
    "               'y','p','m','a','c','cs','jd','RM','CF','SR','OI']\n",
    "start_date = 20180101\n",
    "table = \"AdjustedFuturesDaily\"\n",
    "engine = create_engine(\"sqlite:///../data/FuturesMarketData.db\")\n",
    "in_binds = \", \".join([f\":sym{i}\" for i in range(len(instruments))])\n",
    "sql = text(f\"\"\"\n",
    "        SELECT *, (ClosePrice * factor_multiply) as adjclose\n",
    "        FROM {table}\n",
    "        WHERE TradingDay >= {start_date}\n",
    "            AND Instrument IN ({in_binds})\n",
    "            AND method = 'OpenInterest'\n",
    "    \"\"\")\n",
    "\n",
    "params = {\"start\": start_date} | {f\"sym{i}\": s for i, s in enumerate(instruments)}\n",
    "\n",
    "with engine.begin() as conn:\n",
    "    df = pd.read_sql(sql, conn, params=params)\n",
    "\n",
    "df = df.pivot(index=\"TradingDay\", columns=\"Instrument\")\n",
    "df[\"adjclose\"]\n"
   ],
   "id": "ed02387782336466",
   "outputs": [],
   "execution_count": null
  },
  {
   "metadata": {},
   "cell_type": "code",
   "source": [
    "px = df[\"adjclose\"].sort_index()\n",
    "px = px.where(px > -1)\n",
    "\n",
    "lookback = 15\n",
    "skip = 1\n",
    "\n",
    "# L = 15\n",
    "# s = 1\n",
    "# logp = np.log(px)\n",
    "\n",
    "# mode = \"simple\"\n",
    "# signal = logp.shift(s) - logp.shift(L - s)\n",
    "# signal\n",
    "\n",
    "# mode = \"linear\"\n",
    "log_return = np.log(px / px.shift(1))\n",
    "\n",
    "weights = np.arange(lookback, 0, -1, dtype=float)\n",
    "weights /= weights.sum()\n",
    "\n",
    "signal = (\n",
    "    log_return\n",
    "    .rolling(lookback)\n",
    "    .apply(lambda x: np.dot(x, weights), raw=True)\n",
    ")\n",
    "signal"
   ],
   "id": "bcefcbba61aa633e",
   "outputs": [],
   "execution_count": null
  },
  {
   "metadata": {},
   "cell_type": "code",
   "source": [
    "window = 15\n",
    "trade_percent = 0.2\n",
    "gross_target = 1.0\n",
    "hold_period = 2\n",
    "data = df[\"adjclose\"]\n",
    "\n",
    "low = data.quantile(trade_percent, axis=1)\n",
    "high = data.quantile(1 - trade_percent, axis=1)\n",
    "\n",
    "longs = (data.ge(high, axis=0)).astype(float)\n",
    "shorts = (data.le(low, axis=0)).astype(float) * -1\n",
    "\n",
    "weights = longs + shorts\n",
    "weights = weights.sub(weights.mean(axis=1), axis=0)\n",
    "\n",
    "gross = weights.abs().sum(axis=1)\n",
    "scale = gross_target / gross.replace(0, np.nan)\n",
    "position = weights.mul(scale, axis=0).fillna(0)\n",
    "position"
   ],
   "id": "a35d8d3d8cc66ac9",
   "outputs": [],
   "execution_count": null
  },
  {
   "metadata": {},
   "cell_type": "code",
   "source": [
    "price_diff = data.diff(periods=1)\n",
    "pos_shift = position.shift(1).fillna(0)\n",
    "pnl = pos_shift * price_diff\n",
    "\n",
    "# Portfolio PnL\n",
    "pnl_ptf = pnl.sum(axis=1)\n",
    "\n",
    "# Turnover (sum of absolute position changes)\n",
    "turnover = (position - pos_shift).abs().sum(axis=1)"
   ],
   "id": "aa6c1756eeee46ad",
   "outputs": [],
   "execution_count": null
  }
 ],
 "metadata": {
  "kernelspec": {
   "display_name": "Python 3",
   "language": "python",
   "name": "python3"
  },
  "language_info": {
   "codemirror_mode": {
    "name": "ipython",
    "version": 2
   },
   "file_extension": ".py",
   "mimetype": "text/x-python",
   "name": "python",
   "nbconvert_exporter": "python",
   "pygments_lexer": "ipython2",
   "version": "2.7.6"
  }
 },
 "nbformat": 4,
 "nbformat_minor": 5
}
