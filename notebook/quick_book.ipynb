{
 "cells": [
  {
   "cell_type": "code",
   "id": "initial_id",
   "metadata": {
    "collapsed": true
   },
   "source": [
    "import pandas as pd\n",
    "import numpy as np\n",
    "from sqlalchemy import create_engine, text\n",
    "import matplotlib.pyplot as plt\n",
    "\n",
    "instruments = ['hc', 'rb', 'i', 'j', 'jm', 'au', 'ag', 'v', 'ru', 'l', 'pp', 'bu', 'TA', 'FG', 'MA',\n",
    "               'y', 'p', 'm', 'a', 'c', 'cs', 'jd', 'RM', 'CF', 'SR', 'OI']\n",
    "start_date = 20180101\n",
    "table = \"AdjustedFuturesDaily\"\n",
    "engine = create_engine(\"sqlite:///../data/FuturesMarketData.db\")\n",
    "in_binds = \", \".join([f\":sym{i}\" for i in range(len(instruments))])\n",
    "sql = text(f\"\"\"\n",
    "    SELECT *, (ClosePrice * factor_multiply) as adjclose\n",
    "    FROM {table}\n",
    "    WHERE TradingDay >= :start\n",
    "    AND Instrument IN ({in_binds})\n",
    "\"\"\")\n",
    "\n",
    "params = {\"start\": start_date} | {f\"sym{i}\": s for i, s in enumerate(instruments)}\n",
    "\n",
    "with engine.begin() as conn:\n",
    "    df = pd.read_sql(sql, conn, params=params)\n",
    "df"
   ],
   "outputs": [],
   "execution_count": null
  },
  {
   "metadata": {},
   "cell_type": "code",
   "source": [
    "df['TradingDay'] = pd.to_datetime(df['TradingDay'].astype(str))\n",
    "df = df.sort_values(['Instrument', 'TradingDay']).drop_duplicates(['Instrument', 'TradingDay'], keep='last')\n",
    "cols_keep = ['TradingDay', 'Instrument', 'adjclose']\n",
    "df = df[cols_keep]\n",
    "df"
   ],
   "id": "7ea0aaaf29069556",
   "outputs": [],
   "execution_count": null
  },
  {
   "metadata": {},
   "cell_type": "code",
   "source": [
    "adj = (df\n",
    "       .pivot_table(index='TradingDay',\n",
    "                    columns='Instrument',\n",
    "                    values='adjclose',\n",
    "                    aggfunc='last')\n",
    "       .sort_index()\n",
    "       .sort_index(axis=1))\n",
    "\n",
    "ax = adj.plot(title='Adjusted Futures – adjclose (all)')\n",
    "ax.set_xlabel('Date'); ax.set_ylabel('Price')"
   ],
   "id": "b376cb185bed54d9",
   "outputs": [],
   "execution_count": null
  },
  {
   "metadata": {},
   "cell_type": "code",
   "source": [
    "subset = ['rb','hc','i','au', 'CF', 'FG', 'jm']\n",
    "adj[subset].dropna(how='all').plot(title='rb / hc / i / au – adjclose')\n",
    "plt.xlabel('Date'); plt.ylabel('Price')\n",
    "plt.show()"
   ],
   "id": "c4ab2e3ae28049d1",
   "outputs": [],
   "execution_count": null
  }
 ],
 "metadata": {
  "kernelspec": {
   "display_name": "Python 3",
   "language": "python",
   "name": "python3"
  },
  "language_info": {
   "codemirror_mode": {
    "name": "ipython",
    "version": 2
   },
   "file_extension": ".py",
   "mimetype": "text/x-python",
   "name": "python",
   "nbconvert_exporter": "python",
   "pygments_lexer": "ipython2",
   "version": "2.7.6"
  }
 },
 "nbformat": 4,
 "nbformat_minor": 5
}
